{
 "cells": [
  {
   "cell_type": "code",
   "execution_count": 1,
   "metadata": {},
   "outputs": [],
   "source": [
    "from tensorflow.keras import optimizers\n",
    "import tensorflow as tf\n",
    "import os\n",
    "# DEFINE TF LOG LEVEL\n",
    "os.environ['TF_CPP_MIN_LOG_LEVEL'] = '3'\n",
    "# DEFINE GPU RESOUCE FOR TF\n",
    "os.environ[\"CUDA_DEVICE_ORDER\"] = \"PCI_BUS_ID\"\n",
    "os.environ[\"CUDA_VISIBLE_DEVICES\"] = \"0\"\n"
   ]
  },
  {
   "cell_type": "code",
   "execution_count": 5,
   "metadata": {},
   "outputs": [],
   "source": [
    "# CLASS BALANCED AND SCHUFFLED TRAINING SET\n",
    "import numpy as np\n",
    "time_train = np.load(\"./time_train_shuffled_10x.npy\")\n",
    "event_train = np.load(\"./event_train_shuffled_10x.npy\")\n",
    "image_train = np.load(\"./image_train_shuffled_10x.npy\", mmap_mode=\"r\")\n"
   ]
  },
  {
   "cell_type": "code",
   "execution_count": 19,
   "metadata": {},
   "outputs": [],
   "source": [
    "def CreateModel(depth, length, junction, initial_filter, type_of_block, learning_rate):\n",
    "    os.environ[\"CUDA_DEVICE_ORDER\"] = \"PCI_BUS_ID\"\n",
    "    os.environ[\"CUDA_VISIBLE_DEVICES\"] = \"2\"\n",
    "    # THE FOLLOWING CODES LINES MAY NOT WORK ON recent tf version -LINE BEGIN\n",
    "    from tensorflow.compat.v1.keras.backend import set_session\n",
    "    config = tf.compat.v1.ConfigProto()\n",
    "    config.gpu_options.allow_growth = True\n",
    "    set_session(tf.compat.v1.Session(config=config))\n",
    "    # -LINE END\n",
    "\n",
    "    from plexusnet.architecture import PlexusNet\n",
    "\n",
    "    model = PlexusNet(depth=depth, length=length, junction=junction, n_class=1, final_activation=\"sigmoid\", initial_filter=initial_filter,\n",
    "                      filter_num_for_first_convlayer=4, input_shape=(512, 512), ApplyLayerNormalization=True, run_all_BN=False, GlobalPooling=\"avg\", type_of_block=type_of_block).model\n",
    "    model.compile(optimizer=optimizers.Adam(learning_rate),\n",
    "                  loss=tf.keras.losses.binary_crossentropy, metrics=[\"accuracy\"])\n",
    "    return model\n"
   ]
  },
  {
   "cell_type": "code",
   "execution_count": 19,
   "metadata": {},
   "outputs": [],
   "source": [
    "\n",
    "#\n",
    "from scikeras.wrappers import KerasClassifier\n",
    "from sklearn.model_selection import GridSearchCV\n",
    "\n",
    "# 3 block types x 2 depths options x 2 branching factor option (length) x 3 intial filter options = 36 models with different hyperparameter configurations\n",
    "model = KerasClassifier(build_fn=CreateModel, verbose=0)\n",
    "param_grid = dict(\n",
    "    depth=[5, 6],\n",
    "    learning_rate=[0.0001],  # defualt\n",
    "    junction=[3],  # defualt\n",
    "    batch_size=[16],  # defualt\n",
    "    length=[2, 3],\n",
    "    initial_filter=[4, 6, 8],\n",
    "    type_of_block=[\"soft_att\", \"inception\", \"resnet\"],\n",
    "    epochs=[5])\n",
    "# 3 fold cross validation using a single CPU core and GPU\n",
    "grid = GridSearchCV(estimator=model, param_grid=param_grid, n_jobs=1, cv=3)\n",
    "# training set has balanced classes after oversampling the BCR class.\n",
    "grid_result = grid.fit(image_train[:1000], event_train[:1000])\n"
   ]
  },
  {
   "cell_type": "code",
   "execution_count": null,
   "metadata": {},
   "outputs": [],
   "source": [
    "grid_result.best_params_  # GET THE BEST PARAMETER SET\n",
    "{'batch_size': 16,\n",
    " 'depth': 5,\n",
    " 'epochs': 5,\n",
    " 'initial_filter': 6,\n",
    " 'junction': 3,\n",
    " 'learning_rate': 0.0001,\n",
    " 'length': 2,\n",
    " 'type_of_block': 'soft_att'}\n"
   ]
  }
 ],
 "metadata": {
  "kernelspec": {
   "display_name": "Python 3",
   "language": "python",
   "name": "python3"
  },
  "language_info": {
   "codemirror_mode": {
    "name": "ipython",
    "version": 3
   },
   "file_extension": ".py",
   "mimetype": "text/x-python",
   "name": "python",
   "nbconvert_exporter": "python",
   "pygments_lexer": "ipython3",
   "version": "3.8.5"
  }
 },
 "nbformat": 4,
 "nbformat_minor": 4
}
